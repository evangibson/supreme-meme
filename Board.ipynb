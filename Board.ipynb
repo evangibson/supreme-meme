{
 "cells": [
  {
   "cell_type": "code",
   "execution_count": 7,
   "metadata": {},
   "outputs": [],
   "source": [
    "import numpy as np\n",
    "\n",
    "class Board:\n",
    "    def __init__(self, rows, columns):\n",
    "        self.rows = int(rows)\n",
    "        self.columns = int(columns)\n",
    "        self.board = np.zeros((self.rows,self.columns), dtype=int)\n",
    "        self.player1 = 1\n",
    "        self.player2 = -1\n",
    "    \n",
    "    def player_one(self, col_select):\n",
    "        col = self.board[:,col_select]\n",
    "        counter = self.rows-1\n",
    "        while col[0] != 0:\n",
    "            col = self.board[:,int(input(\"That column is full.  Please select a different column: \"))]\n",
    "        while col[counter] != 0:\n",
    "            counter -= 1\n",
    "        self.board[counter,col_select] = self.player1\n",
    "    \n",
    "    def player_two(self, col_select):\n",
    "        col = self.board[:,col_select]\n",
    "        counter = self.rows-1\n",
    "        while col[0] != 0:\n",
    "            col = int(input(\"That column is full.  Please select a different column: \"))\n",
    "        while col[counter] != 0:\n",
    "            counter -= 1\n",
    "        self.board[counter,col_select] = self.player2"
   ]
  },
  {
   "cell_type": "code",
   "execution_count": 8,
   "metadata": {},
   "outputs": [],
   "source": [
    "board = Board(8,8)"
   ]
  },
  {
   "cell_type": "code",
   "execution_count": 9,
   "metadata": {},
   "outputs": [],
   "source": [
    "board.player_one(1)"
   ]
  },
  {
   "cell_type": "code",
   "execution_count": 10,
   "metadata": {},
   "outputs": [
    {
     "data": {
      "text/plain": [
       "array([[0, 0, 0, 0, 0, 0, 0, 0],\n",
       "       [0, 0, 0, 0, 0, 0, 0, 0],\n",
       "       [0, 0, 0, 0, 0, 0, 0, 0],\n",
       "       [0, 0, 0, 0, 0, 0, 0, 0],\n",
       "       [0, 0, 0, 0, 0, 0, 0, 0],\n",
       "       [0, 0, 0, 0, 0, 0, 0, 0],\n",
       "       [0, 0, 0, 0, 0, 0, 0, 0],\n",
       "       [0, 1, 0, 0, 0, 0, 0, 0]])"
      ]
     },
     "execution_count": 10,
     "metadata": {},
     "output_type": "execute_result"
    }
   ],
   "source": [
    "board.board"
   ]
  },
  {
   "cell_type": "code",
   "execution_count": null,
   "metadata": {},
   "outputs": [],
   "source": []
  },
  {
   "cell_type": "code",
   "execution_count": null,
   "metadata": {},
   "outputs": [],
   "source": []
  }
 ],
 "metadata": {
  "kernelspec": {
   "display_name": "Python 3",
   "language": "python",
   "name": "python3"
  },
  "language_info": {
   "codemirror_mode": {
    "name": "ipython",
    "version": 3
   },
   "file_extension": ".py",
   "mimetype": "text/x-python",
   "name": "python",
   "nbconvert_exporter": "python",
   "pygments_lexer": "ipython3",
   "version": "3.6.5"
  }
 },
 "nbformat": 4,
 "nbformat_minor": 2
}
